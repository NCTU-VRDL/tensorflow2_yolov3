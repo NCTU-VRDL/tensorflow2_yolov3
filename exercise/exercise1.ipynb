{
 "cells": [
  {
   "cell_type": "code",
   "execution_count": 5,
   "id": "missing-intermediate",
   "metadata": {},
   "outputs": [],
   "source": [
    "import glob\n",
    "import numpy as np"
   ]
  },
  {
   "cell_type": "code",
   "execution_count": 13,
   "id": "amber-speaking",
   "metadata": {},
   "outputs": [],
   "source": [
    "preds = np.concatenate([np.loadtxt(f, dtype='str') for f in glob.glob(\"detections/*.txt\")])\n",
    "gts = np.concatenate([np.loadtxt(f, dtype='str') for f in glob.glob(\"groundtruths//*.txt\")])"
   ]
  },
  {
   "cell_type": "code",
   "execution_count": 14,
   "id": "framed-purse",
   "metadata": {},
   "outputs": [
    {
     "data": {
      "text/plain": [
       "array([['person', '.18', '109', '15', '77', '39'],\n",
       "       ['person', '.67', '86', '63', '46', '45'],\n",
       "       ['person', '.38', '160', '62', '36', '53'],\n",
       "       ['person', '.91', '105', '131', '47', '47'],\n",
       "       ['person', '.44', '18', '148', '40', '44'],\n",
       "       ['person', '.62', '50', '38', '28', '46'],\n",
       "       ['person', '.44', '95', '11', '53', '28'],\n",
       "       ['person', '.95', '29', '131', '72', '29'],\n",
       "       ['person', '.23', '29', '163', '72', '29'],\n",
       "       ['person', '.71', '64', '111', '64', '58'],\n",
       "       ['person', '.54', '26', '140', '60', '47'],\n",
       "       ['person', '.74', '19', '18', '43', '35'],\n",
       "       ['person', '.48', '16', '20', '101', '88'],\n",
       "       ['person', '.95', '33', '116', '37', '49'],\n",
       "       ['person', '.45', '43', '48', '74', '38'],\n",
       "       ['person', '.84', '17', '155', '29', '35'],\n",
       "       ['person', '.43', '95', '110', '25', '42'],\n",
       "       ['person', '.35', '83', '28', '28', '26'],\n",
       "       ['person', '.78', '28', '68', '42', '67'],\n",
       "       ['person', '.45', '87', '89', '25', '39'],\n",
       "       ['person', '.14', '10', '155', '60', '26'],\n",
       "       ['person', '.88', '5', '67', '31', '48'],\n",
       "       ['person', '.70', '119', '111', '40', '67'],\n",
       "       ['person', '.80', '124', '9', '49', '67']], dtype='<U6')"
      ]
     },
     "execution_count": 14,
     "metadata": {},
     "output_type": "execute_result"
    }
   ],
   "source": [
    "preds"
   ]
  },
  {
   "cell_type": "code",
   "execution_count": 15,
   "id": "framed-premium",
   "metadata": {},
   "outputs": [
    {
     "data": {
      "text/plain": [
       "array([['person', '16', '14', '35', '48'],\n",
       "       ['person', '123', '30', '49', '44'],\n",
       "       ['person', '99', '139', '47', '47'],\n",
       "       ['person', '59', '31', '44', '51'],\n",
       "       ['person', '48', '128', '34', '52'],\n",
       "       ['person', '123', '11', '43', '55'],\n",
       "       ['person', '38', '132', '59', '45'],\n",
       "       ['person', '28', '31', '55', '63'],\n",
       "       ['person', '58', '67', '50', '58'],\n",
       "       ['person', '36', '89', '52', '76'],\n",
       "       ['person', '62', '58', '44', '67'],\n",
       "       ['person', '53', '42', '40', '52'],\n",
       "       ['person', '154', '43', '31', '34'],\n",
       "       ['person', '25', '16', '38', '56'],\n",
       "       ['person', '129', '123', '41', '62']], dtype='<U6')"
      ]
     },
     "execution_count": 15,
     "metadata": {},
     "output_type": "execute_result"
    }
   ],
   "source": [
    "gts"
   ]
  },
  {
   "cell_type": "markdown",
   "id": "multiple-telephone",
   "metadata": {},
   "source": [
    "## Calculate the average precision of the predictions!"
   ]
  },
  {
   "cell_type": "code",
   "execution_count": null,
   "id": "electrical-delaware",
   "metadata": {},
   "outputs": [],
   "source": []
  }
 ],
 "metadata": {
  "kernelspec": {
   "display_name": "Python 3",
   "language": "python",
   "name": "python3"
  },
  "language_info": {
   "codemirror_mode": {
    "name": "ipython",
    "version": 3
   },
   "file_extension": ".py",
   "mimetype": "text/x-python",
   "name": "python",
   "nbconvert_exporter": "python",
   "pygments_lexer": "ipython3",
   "version": "3.9.2"
  }
 },
 "nbformat": 4,
 "nbformat_minor": 5
}
