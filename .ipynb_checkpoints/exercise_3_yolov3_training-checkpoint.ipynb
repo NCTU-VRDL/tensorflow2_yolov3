{
 "cells": [
  {
   "cell_type": "code",
   "execution_count": null,
   "metadata": {},
   "outputs": [],
   "source": [
    "from tensorflow.compat.v1 import ConfigProto\n",
    "from tensorflow.compat.v1 import InteractiveSession\n",
    "\n",
    "config = ConfigProto()\n",
    "config.gpu_options.per_process_gpu_memory_fraction = 0.2\n",
    "config.gpu_options.allow_growth = True\n",
    "session = InteractiveSession(config=config)"
   ]
  },
  {
   "cell_type": "code",
   "execution_count": 1,
   "metadata": {
    "colab": {
     "base_uri": "https://localhost:8080/"
    },
    "id": "0FPvu6HMimdV",
    "outputId": "8c1f9ec4-a00e-4ce2-87f7-52a007d6b8c4"
   },
   "outputs": [
    {
     "name": "stdout",
     "output_type": "stream",
     "text": [
      "Wed Apr 28 15:36:54 2021       \n",
      "+-----------------------------------------------------------------------------+\n",
      "| NVIDIA-SMI 465.19.01    Driver Version: 460.32.03    CUDA Version: 11.2     |\n",
      "|-------------------------------+----------------------+----------------------+\n",
      "| GPU  Name        Persistence-M| Bus-Id        Disp.A | Volatile Uncorr. ECC |\n",
      "| Fan  Temp  Perf  Pwr:Usage/Cap|         Memory-Usage | GPU-Util  Compute M. |\n",
      "|                               |                      |               MIG M. |\n",
      "|===============================+======================+======================|\n",
      "|   0  Tesla K80           Off  | 00000000:00:04.0 Off |                    0 |\n",
      "| N/A   34C    P8    27W / 149W |      0MiB / 11441MiB |      0%      Default |\n",
      "|                               |                      |                  N/A |\n",
      "+-------------------------------+----------------------+----------------------+\n",
      "                                                                               \n",
      "+-----------------------------------------------------------------------------+\n",
      "| Processes:                                                                  |\n",
      "|  GPU   GI   CI        PID   Type   Process name                  GPU Memory |\n",
      "|        ID   ID                                                   Usage      |\n",
      "|=============================================================================|\n",
      "|  No running processes found                                                 |\n",
      "+-----------------------------------------------------------------------------+\n"
     ]
    }
   ],
   "source": [
    "!nvidia-smi"
   ]
  },
  {
   "cell_type": "markdown",
   "metadata": {
    "id": "0FrljXtd_cyt"
   },
   "source": [
    "## 生成 0-9 數字集資料並切分為訓練集與測試集\n",
    "![alt text](https://user-images.githubusercontent.com/30433053/68088705-90d8ee80-fe9c-11e9-8e61-589fdc45fe60.png)"
   ]
  },
  {
   "cell_type": "code",
   "execution_count": 4,
   "metadata": {
    "id": "BzyIvp-pPpZL"
   },
   "outputs": [],
   "source": [
    "import os\n",
    "import time\n",
    "import shutil\n",
    "import numpy as np\n",
    "import tensorflow as tf\n",
    "import core.utils as utils\n",
    "from tqdm import tqdm\n",
    "from core.dataset import Dataset\n",
    "from core.yolov3 import YOLOv3, decode, compute_loss\n",
    "from core.config import cfg"
   ]
  },
  {
   "cell_type": "code",
   "execution_count": 5,
   "metadata": {
    "id": "5I5fah7fPqSn"
   },
   "outputs": [
    {
     "name": "stdout",
     "output_type": "stream",
     "text": [
      "{'YOLO': {'CLASSES': './data/classes/coco.names', 'ANCHORS': './data/anchors/basline_anchors.txt', 'STRIDES': [8, 16, 32], 'ANCHOR_PER_SCALE': 3, 'IOU_LOSS_THRESH': 0.5}, 'TRAIN': {'ANNOT_PATH': './data/dataset/yymnist_train.txt', 'BATCH_SIZE': 4, 'INPUT_SIZE': [416], 'DATA_AUG': True, 'LR_INIT': 0.001, 'LR_END': 1e-06, 'WARMUP_EPOCHS': 2, 'EPOCHS': 20}, 'TEST': {'ANNOT_PATH': './data/dataset/yymnist_test.txt', 'BATCH_SIZE': 2, 'INPUT_SIZE': 544, 'DATA_AUG': False, 'DECTECTED_IMAGE_PATH': './data/detection/', 'SCORE_THRESHOLD': 0.3, 'IOU_THRESHOLD': 0.45}}\n"
     ]
    }
   ],
   "source": [
    "print(cfg)"
   ]
  },
  {
   "cell_type": "code",
   "execution_count": null,
   "metadata": {
    "id": "EqGrkRUMedH3"
   },
   "outputs": [
    {
     "name": "stdout",
     "output_type": "stream",
     "text": [
      "Epochs: 0\n"
     ]
    }
   ],
   "source": [
    "trainset = Dataset('train')\n",
    "logdir = \"./data/log\"\n",
    "steps_per_epoch = len(trainset)\n",
    "global_steps = tf.Variable(1, trainable=False, dtype=tf.int64)\n",
    "warmup_steps = cfg.TRAIN.WARMUP_EPOCHS * steps_per_epoch\n",
    "total_steps = cfg.TRAIN.EPOCHS * steps_per_epoch\n",
    "\n",
    "input_tensor = tf.keras.layers.Input([416, 416, 3])\n",
    "conv_tensors = YOLOv3(input_tensor)\n",
    "\n",
    "output_tensors = []\n",
    "for i, conv_tensor in enumerate(conv_tensors):\n",
    "    pred_tensor = decode(conv_tensor, i)\n",
    "    output_tensors.append(conv_tensor)\n",
    "    output_tensors.append(pred_tensor)\n",
    "\n",
    "model = tf.keras.Model(input_tensor, output_tensors)\n",
    "optimizer = tf.keras.optimizers.Adam()\n",
    "if os.path.exists(logdir): shutil.rmtree(logdir)\n",
    "writer = tf.summary.create_file_writer(logdir)\n",
    "\n",
    "def train_step(image_data, target):\n",
    "    with tf.GradientTape() as tape:\n",
    "        pred_result = model(image_data, training=True)\n",
    "        giou_loss=conf_loss=prob_loss=0\n",
    "\n",
    "        # optimizing process\n",
    "        for i in range(3):\n",
    "            conv, pred = pred_result[i*2], pred_result[i*2+1]\n",
    "            loss_items = compute_loss(pred, conv, *target[i], i)\n",
    "            giou_loss += loss_items[0]\n",
    "            conf_loss += loss_items[1]\n",
    "            prob_loss += loss_items[2]\n",
    "\n",
    "        total_loss = giou_loss + conf_loss + prob_loss\n",
    "\n",
    "        gradients = tape.gradient(total_loss, model.trainable_variables)\n",
    "        optimizer.apply_gradients(zip(gradients, model.trainable_variables))\n",
    "        if global_steps % 100 == 0:\n",
    "          tf.print(\"=> STEP %4d   lr: %.6f   giou_loss: %4.2f   conf_loss: %4.2f   \"\n",
    "                  \"prob_loss: %4.2f   total_loss: %4.2f\" %(global_steps, optimizer.lr.numpy(),\n",
    "                                                            giou_loss, conf_loss,\n",
    "                                                            prob_loss, total_loss))\n",
    "        # update learning rate\n",
    "        global_steps.assign_add(1)\n",
    "        if global_steps < warmup_steps:\n",
    "            lr = global_steps / warmup_steps *cfg.TRAIN.LR_INIT\n",
    "        else:\n",
    "            lr = cfg.TRAIN.LR_END + 0.5 * (cfg.TRAIN.LR_INIT - cfg.TRAIN.LR_END) * (\n",
    "                (1 + tf.cos((global_steps - warmup_steps) / (total_steps - warmup_steps) * np.pi))\n",
    "            )\n",
    "        optimizer.lr.assign(lr.numpy())\n",
    "\n",
    "        # writing summary data\n",
    "        with writer.as_default():\n",
    "            tf.summary.scalar(\"lr\", optimizer.lr, step=global_steps)\n",
    "            tf.summary.scalar(\"loss/total_loss\", total_loss, step=global_steps)\n",
    "            tf.summary.scalar(\"loss/giou_loss\", giou_loss, step=global_steps)\n",
    "            tf.summary.scalar(\"loss/conf_loss\", conf_loss, step=global_steps)\n",
    "            tf.summary.scalar(\"loss/prob_loss\", prob_loss, step=global_steps)\n",
    "        writer.flush()\n",
    "\n",
    "\n",
    "for epoch in range(cfg.TRAIN.EPOCHS):\n",
    "    print(\"Epochs:\", epoch)\n",
    "    for image_data, target in trainset:\n",
    "        train_step(image_data, target)\n",
    "    model.save_weights(\"./data/log/yolov3_tf\")"
   ]
  },
  {
   "cell_type": "markdown",
   "metadata": {
    "id": "lpuOckzH1oLv"
   },
   "source": [
    "## 重新建立模型並讀取參數，進行 inference"
   ]
  },
  {
   "cell_type": "code",
   "execution_count": null,
   "metadata": {
    "id": "UWDCxJZ1fdsw"
   },
   "outputs": [],
   "source": [
    "import cv2\n",
    "import matplotlib.pyplot as plt\n",
    "from PIL import Image\n",
    "\n",
    "input_size = 416\n",
    "image_path = './data/dataset/test/000001.jpg'\n",
    "original_image = cv2.imread(image_path)\n",
    "original_image = cv2.cvtColor(original_image, cv2.COLOR_BGR2RGB)\n",
    "original_image_size = original_image.shape[:2]\n",
    "\n",
    "image_data = utils.image_preporcess(np.copy(original_image), [input_size, input_size])\n",
    "image_data = image_data[np.newaxis, ...].astype(np.float32)"
   ]
  },
  {
   "cell_type": "code",
   "execution_count": null,
   "metadata": {
    "id": "WrZ7_Hk2vJJi"
   },
   "outputs": [],
   "source": [
    "plt.imshow(image_data[0])"
   ]
  },
  {
   "cell_type": "code",
   "execution_count": null,
   "metadata": {
    "id": "dzRQ79E6xoVb"
   },
   "outputs": [],
   "source": [
    "# Build Model\n",
    "input_layer  = tf.keras.layers.Input([input_size, input_size, 3])\n",
    "feature_maps = YOLOv3(input_layer)\n",
    "\n",
    "bbox_tensors = []\n",
    "for i, fm in enumerate(feature_maps):\n",
    "    bbox_tensor = decode(fm, i)\n",
    "    bbox_tensors.append(bbox_tensor)\n",
    "\n",
    "model = tf.keras.Model(input_layer, bbox_tensors)\n",
    "model.load_weights(\"./data/log/yolov3_tf\")"
   ]
  },
  {
   "cell_type": "code",
   "execution_count": null,
   "metadata": {
    "id": "qx7ehqvYt7-R"
   },
   "outputs": [],
   "source": [
    "pred_bbox = model.predict(image_data)\n",
    "pred_bbox = [tf.reshape(x, (-1, tf.shape(x)[-1])) for x in pred_bbox]\n",
    "pred_bbox = tf.concat(pred_bbox, axis=0)\n",
    "bboxes = utils.postprocess_boxes(pred_bbox, original_image_size, input_size, 0.3)\n",
    "bboxes = utils.nms(bboxes, 0.45, method='nms')\n",
    "\n",
    "image = utils.draw_bbox(original_image, bboxes, classes=utils.read_class_names(\"./data/classes/yymnist.names\"))\n",
    "image = Image.fromarray(image)"
   ]
  },
  {
   "cell_type": "code",
   "execution_count": null,
   "metadata": {
    "id": "sKPzba1pxeQl"
   },
   "outputs": [],
   "source": [
    "image"
   ]
  }
 ],
 "metadata": {
  "accelerator": "GPU",
  "colab": {
   "collapsed_sections": [],
   "name": "YOLO_V3_training.ipynb",
   "provenance": [],
   "toc_visible": true
  },
  "kernelspec": {
   "display_name": "Python 3",
   "language": "python",
   "name": "python3"
  },
  "language_info": {
   "codemirror_mode": {
    "name": "ipython",
    "version": 3
   },
   "file_extension": ".py",
   "mimetype": "text/x-python",
   "name": "python",
   "nbconvert_exporter": "python",
   "pygments_lexer": "ipython3",
   "version": "3.9.2"
  }
 },
 "nbformat": 4,
 "nbformat_minor": 1
}
