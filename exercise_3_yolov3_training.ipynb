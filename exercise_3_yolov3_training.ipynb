{
 "cells": [
  {
   "cell_type": "code",
   "execution_count": 2,
   "metadata": {},
   "outputs": [],
   "source": [
    "import os \n",
    "from tensorflow.compat.v1 import ConfigProto\n",
    "from tensorflow.compat.v1 import InteractiveSession\n",
    "\n",
    "os.environ[\"CUDA_DEVICE_ORDER\"] = \"PCI_BUS_ID\"\n",
    "os.environ[\"CUDA_VISIBLE_DEVICES\"] = \"0\"\n",
    "\n",
    "config = ConfigProto()\n",
    "config.gpu_options.per_process_gpu_memory_fraction = 0.5\n",
    "config.gpu_options.allow_growth = True\n",
    "session = InteractiveSession(config=config)"
   ]
  },
  {
   "cell_type": "code",
   "execution_count": 3,
   "metadata": {
    "colab": {
     "base_uri": "https://localhost:8080/"
    },
    "id": "0FPvu6HMimdV",
    "outputId": "8c1f9ec4-a00e-4ce2-87f7-52a007d6b8c4"
   },
   "outputs": [
    {
     "name": "stdout",
     "output_type": "stream",
     "text": [
      "Mon May  3 15:22:24 2021       \n",
      "+-----------------------------------------------------------------------------+\n",
      "| NVIDIA-SMI 440.100      Driver Version: 440.100      CUDA Version: 10.2     |\n",
      "|-------------------------------+----------------------+----------------------+\n",
      "| GPU  Name        Persistence-M| Bus-Id        Disp.A | Volatile Uncorr. ECC |\n",
      "| Fan  Temp  Perf  Pwr:Usage/Cap|         Memory-Usage | GPU-Util  Compute M. |\n",
      "|===============================+======================+======================|\n",
      "|   0  GeForce RTX 208...  Off  | 00000000:3D:00.0 Off |                  N/A |\n",
      "| 37%   59C    P2   160W / 250W |   9798MiB / 11019MiB |     72%      Default |\n",
      "+-------------------------------+----------------------+----------------------+\n",
      "|   1  GeForce RTX 208...  Off  | 00000000:3E:00.0 Off |                  N/A |\n",
      "| 40%   63C    P2   241W / 250W |  10072MiB / 11019MiB |     85%      Default |\n",
      "+-------------------------------+----------------------+----------------------+\n",
      "|   2  GeForce RTX 208...  Off  | 00000000:3F:00.0 Off |                  N/A |\n",
      "| 43%   68C    P2   123W / 250W |  10416MiB / 11019MiB |     74%      Default |\n",
      "+-------------------------------+----------------------+----------------------+\n",
      "|   3  GeForce RTX 208...  Off  | 00000000:40:00.0 Off |                  N/A |\n",
      "| 40%   64C    P2   175W / 250W |  10158MiB / 11019MiB |     74%      Default |\n",
      "+-------------------------------+----------------------+----------------------+\n",
      "|   4  GeForce RTX 208...  Off  | 00000000:41:00.0 Off |                  N/A |\n",
      "| 31%   31C    P8     9W / 250W |      0MiB / 11019MiB |      0%      Default |\n",
      "+-------------------------------+----------------------+----------------------+\n",
      "|   5  GeForce RTX 208...  Off  | 00000000:60:00.0 Off |                  N/A |\n",
      "| 31%   27C    P8     5W / 250W |      0MiB / 11019MiB |      0%      Default |\n",
      "+-------------------------------+----------------------+----------------------+\n",
      "|   6  GeForce RTX 208...  Off  | 00000000:61:00.0 Off |                  N/A |\n",
      "| 29%   29C    P8     2W / 250W |      0MiB / 11019MiB |      0%      Default |\n",
      "+-------------------------------+----------------------+----------------------+\n",
      "|   7  GeForce RTX 208...  Off  | 00000000:62:00.0 Off |                  N/A |\n",
      "| 29%   27C    P8    18W / 250W |      0MiB / 11019MiB |      0%      Default |\n",
      "+-------------------------------+----------------------+----------------------+\n",
      "|   8  GeForce RTX 208...  Off  | 00000000:63:00.0 Off |                  N/A |\n",
      "| 30%   29C    P2    58W / 250W |    166MiB / 11019MiB |      1%      Default |\n",
      "+-------------------------------+----------------------+----------------------+\n",
      "|   9  GeForce RTX 208...  Off  | 00000000:64:00.0 Off |                  N/A |\n",
      "| 29%   27C    P8    11W / 250W |      0MiB / 11019MiB |      0%      Default |\n",
      "+-------------------------------+----------------------+----------------------+\n",
      "                                                                               \n",
      "+-----------------------------------------------------------------------------+\n",
      "| Processes:                                                       GPU Memory |\n",
      "|  GPU       PID   Type   Process name                             Usage      |\n",
      "|=============================================================================|\n",
      "|    0     25569      C   python                                      9787MiB |\n",
      "|    1     25571      C   python                                     10061MiB |\n",
      "|    2     25573      C   python                                     10405MiB |\n",
      "|    3     25574      C   python                                     10147MiB |\n",
      "|    8     38865      C   ...my15923/anaconda3/envs/media/bin/python   155MiB |\n",
      "+-----------------------------------------------------------------------------+\n"
     ]
    }
   ],
   "source": [
    "!nvidia-smi"
   ]
  },
  {
   "cell_type": "markdown",
   "metadata": {
    "id": "0FrljXtd_cyt"
   },
   "source": [
    "## 生成 0-9 數字集資料並切分為訓練集與測試集\n",
    "![alt text](https://user-images.githubusercontent.com/30433053/68088705-90d8ee80-fe9c-11e9-8e61-589fdc45fe60.png)"
   ]
  },
  {
   "cell_type": "code",
   "execution_count": 4,
   "metadata": {
    "id": "BzyIvp-pPpZL"
   },
   "outputs": [],
   "source": [
    "import os\n",
    "import time\n",
    "import shutil\n",
    "import numpy as np\n",
    "import tensorflow as tf\n",
    "import core.utils as utils\n",
    "from tqdm import tqdm\n",
    "from core.dataset import Dataset\n",
    "from core.yolov3 import YOLOv3, decode, compute_loss\n",
    "from core.config import cfg"
   ]
  },
  {
   "cell_type": "code",
   "execution_count": 5,
   "metadata": {
    "id": "5I5fah7fPqSn"
   },
   "outputs": [
    {
     "name": "stdout",
     "output_type": "stream",
     "text": [
      "{'YOLO': {'CLASSES': './data/classes/yymnist.names', 'ANCHORS': './data/anchors/basline_anchors.txt', 'STRIDES': [8, 16, 32], 'ANCHOR_PER_SCALE': 3, 'IOU_LOSS_THRESH': 0.5}, 'TRAIN': {'ANNOT_PATH': './data/dataset/yymnist_train.txt', 'BATCH_SIZE': 6, 'INPUT_SIZE': [416], 'DATA_AUG': True, 'LR_INIT': 0.001, 'LR_END': 1e-06, 'WARMUP_EPOCHS': 2, 'EPOCHS': 20}, 'TEST': {'ANNOT_PATH': './data/dataset/yymnist_test.txt', 'BATCH_SIZE': 2, 'INPUT_SIZE': 544, 'DATA_AUG': False, 'DECTECTED_IMAGE_PATH': './data/detection/', 'SCORE_THRESHOLD': 0.3, 'IOU_THRESHOLD': 0.45}}\n"
     ]
    }
   ],
   "source": [
    "print(cfg)"
   ]
  },
  {
   "cell_type": "code",
   "execution_count": 6,
   "metadata": {
    "id": "EqGrkRUMedH3",
    "scrolled": true,
    "tags": []
   },
   "outputs": [
    {
     "name": "stdout",
     "output_type": "stream",
     "text": [
      "Epochs: 0\n",
      "=> STEP  100   lr: 0.000299   giou_loss: 11.74   conf_loss: 138.64   prob_loss: 63.87   total_loss: 214.25\n",
      "Epochs: 1\n",
      "=> STEP  200   lr: 0.000599   giou_loss: 8.99   conf_loss: 22.60   prob_loss: 54.93   total_loss: 86.52\n",
      "=> STEP  300   lr: 0.000898   giou_loss: 7.05   conf_loss: 10.54   prob_loss: 39.36   total_loss: 56.94\n",
      "Epochs: 2\n",
      "=> STEP  400   lr: 0.000999   giou_loss: 9.71   conf_loss: 6.19   prob_loss: 48.64   total_loss: 64.54\n",
      "=> STEP  500   lr: 0.000993   giou_loss: 7.52   conf_loss: 3.90   prob_loss: 37.02   total_loss: 48.43\n",
      "Epochs: 3\n",
      "=> STEP  600   lr: 0.000981   giou_loss: 9.39   conf_loss: 6.12   prob_loss: 35.79   total_loss: 51.30\n",
      "Epochs: 4\n",
      "=> STEP  700   lr: 0.000964   giou_loss: 7.47   conf_loss: 3.97   prob_loss: 24.43   total_loss: 35.87\n",
      "=> STEP  800   lr: 0.000942   giou_loss: 6.00   conf_loss: 3.34   prob_loss: 28.03   total_loss: 37.37\n",
      "Epochs: 5\n",
      "=> STEP  900   lr: 0.000915   giou_loss: 6.99   conf_loss: 2.54   prob_loss: 19.13   total_loss: 28.66\n",
      "=> STEP 1000   lr: 0.000884   giou_loss: 6.87   conf_loss: 2.17   prob_loss: 17.40   total_loss: 26.45\n",
      "Epochs: 6\n",
      "=> STEP 1100   lr: 0.000848   giou_loss: 8.55   conf_loss: 2.97   prob_loss: 24.69   total_loss: 36.21\n",
      "Epochs: 7\n",
      "=> STEP 1200   lr: 0.000809   giou_loss: 6.45   conf_loss: 3.56   prob_loss: 22.37   total_loss: 32.38\n",
      "=> STEP 1300   lr: 0.000766   giou_loss: 7.04   conf_loss: 2.37   prob_loss: 25.05   total_loss: 34.46\n",
      "Epochs: 8\n",
      "=> STEP 1400   lr: 0.000721   giou_loss: 6.56   conf_loss: 1.83   prob_loss: 17.07   total_loss: 25.45\n",
      "=> STEP 1500   lr: 0.000673   giou_loss: 4.18   conf_loss: 1.50   prob_loss: 12.72   total_loss: 18.40\n",
      "Epochs: 9\n",
      "=> STEP 1600   lr: 0.000623   giou_loss: 6.32   conf_loss: 2.17   prob_loss: 15.96   total_loss: 24.44\n",
      "Epochs: 10\n",
      "=> STEP 1700   lr: 0.000572   giou_loss: 5.36   conf_loss: 1.18   prob_loss: 14.38   total_loss: 20.92\n",
      "=> STEP 1800   lr: 0.000520   giou_loss: 7.25   conf_loss: 3.28   prob_loss: 22.48   total_loss: 33.01\n",
      "Epochs: 11\n",
      "=> STEP 1900   lr: 0.000468   giou_loss: 3.48   conf_loss: 0.56   prob_loss: 5.84   total_loss: 9.88\n",
      "=> STEP 2000   lr: 0.000416   giou_loss: 5.69   conf_loss: 2.08   prob_loss: 12.32   total_loss: 20.09\n",
      "Epochs: 12\n",
      "=> STEP 2100   lr: 0.000365   giou_loss: 4.84   conf_loss: 0.79   prob_loss: 7.56   total_loss: 13.20\n",
      "Epochs: 13\n",
      "=> STEP 2200   lr: 0.000316   giou_loss: 3.01   conf_loss: 0.44   prob_loss: 7.13   total_loss: 10.59\n",
      "=> STEP 2300   lr: 0.000268   giou_loss: 4.06   conf_loss: 0.65   prob_loss: 8.62   total_loss: 13.33\n",
      "Epochs: 14\n",
      "=> STEP 2400   lr: 0.000223   giou_loss: 4.22   conf_loss: 0.79   prob_loss: 5.16   total_loss: 10.17\n",
      "=> STEP 2500   lr: 0.000181   giou_loss: 3.06   conf_loss: 0.41   prob_loss: 6.13   total_loss: 9.60\n",
      "Epochs: 15\n",
      "=> STEP 2600   lr: 0.000143   giou_loss: 4.12   conf_loss: 0.72   prob_loss: 8.15   total_loss: 13.00\n",
      "Epochs: 16\n",
      "=> STEP 2700   lr: 0.000109   giou_loss: 3.40   conf_loss: 1.46   prob_loss: 3.50   total_loss: 8.36\n",
      "=> STEP 2800   lr: 0.000078   giou_loss: 3.39   conf_loss: 0.68   prob_loss: 5.08   total_loss: 9.14\n",
      "Epochs: 17\n",
      "=> STEP 2900   lr: 0.000053   giou_loss: 2.49   conf_loss: 0.40   prob_loss: 4.76   total_loss: 7.65\n",
      "=> STEP 3000   lr: 0.000032   giou_loss: 3.46   conf_loss: 0.31   prob_loss: 4.80   total_loss: 8.57\n",
      "Epochs: 18\n",
      "=> STEP 3100   lr: 0.000017   giou_loss: 3.39   conf_loss: 0.64   prob_loss: 6.63   total_loss: 10.66\n",
      "Epochs: 19\n",
      "=> STEP 3200   lr: 0.000006   giou_loss: 3.21   conf_loss: 0.47   prob_loss: 9.12   total_loss: 12.79\n",
      "=> STEP 3300   lr: 0.000001   giou_loss: 3.46   conf_loss: 0.50   prob_loss: 5.95   total_loss: 9.90\n"
     ]
    }
   ],
   "source": [
    "trainset = Dataset('train')\n",
    "logdir = \"./data/log\"\n",
    "steps_per_epoch = len(trainset)\n",
    "global_steps = tf.Variable(1, trainable=False, dtype=tf.int64)\n",
    "warmup_steps = cfg.TRAIN.WARMUP_EPOCHS * steps_per_epoch\n",
    "total_steps = cfg.TRAIN.EPOCHS * steps_per_epoch\n",
    "\n",
    "input_tensor = tf.keras.layers.Input([416, 416, 3])\n",
    "conv_tensors = YOLOv3(input_tensor)\n",
    "\n",
    "output_tensors = []\n",
    "for i, conv_tensor in enumerate(conv_tensors):\n",
    "    pred_tensor = decode(conv_tensor, i)\n",
    "    output_tensors.append(conv_tensor)\n",
    "    output_tensors.append(pred_tensor)\n",
    "\n",
    "model = tf.keras.Model(input_tensor, output_tensors)\n",
    "optimizer = tf.keras.optimizers.Adam()\n",
    "if os.path.exists(logdir): shutil.rmtree(logdir)\n",
    "writer = tf.summary.create_file_writer(logdir)\n",
    "\n",
    "def train_step(image_data, target):\n",
    "    with tf.GradientTape() as tape:\n",
    "        pred_result = model(image_data, training=True)\n",
    "        giou_loss=conf_loss=prob_loss=0\n",
    "\n",
    "        # optimizing process\n",
    "        for i in range(3):\n",
    "            conv, pred = pred_result[i*2], pred_result[i*2+1]\n",
    "            loss_items = compute_loss(pred, conv, *target[i], i)\n",
    "            giou_loss += loss_items[0]\n",
    "            conf_loss += loss_items[1]\n",
    "            prob_loss += loss_items[2]\n",
    "\n",
    "        total_loss = giou_loss + conf_loss + prob_loss\n",
    "\n",
    "        gradients = tape.gradient(total_loss, model.trainable_variables)\n",
    "        optimizer.apply_gradients(zip(gradients, model.trainable_variables))\n",
    "        if global_steps.numpy() % 100 == 0:\n",
    "            tf.print(\"=> STEP %4d   lr: %.6f   giou_loss: %4.2f   conf_loss: %4.2f   \"\n",
    "                     \"prob_loss: %4.2f   total_loss: %4.2f\" %(global_steps, optimizer.lr.numpy(),\n",
    "                                                              giou_loss, conf_loss,\n",
    "                                                              prob_loss, total_loss))\n",
    "        # update learning rate\n",
    "        global_steps.assign_add(1)\n",
    "        if global_steps < warmup_steps:\n",
    "            lr = global_steps / warmup_steps *cfg.TRAIN.LR_INIT\n",
    "        else:\n",
    "            lr = cfg.TRAIN.LR_END + 0.5 * (cfg.TRAIN.LR_INIT - cfg.TRAIN.LR_END) * (\n",
    "                (1 + tf.cos((global_steps - warmup_steps) / (total_steps - warmup_steps) * np.pi))\n",
    "            )\n",
    "        optimizer.lr.assign(lr.numpy())\n",
    "\n",
    "        # writing summary data\n",
    "        with writer.as_default():\n",
    "            tf.summary.scalar(\"lr\", optimizer.lr, step=global_steps)\n",
    "            tf.summary.scalar(\"loss/total_loss\", total_loss, step=global_steps)\n",
    "            tf.summary.scalar(\"loss/giou_loss\", giou_loss, step=global_steps)\n",
    "            tf.summary.scalar(\"loss/conf_loss\", conf_loss, step=global_steps)\n",
    "            tf.summary.scalar(\"loss/prob_loss\", prob_loss, step=global_steps)\n",
    "        writer.flush()\n",
    "\n",
    "\n",
    "for epoch in range(cfg.TRAIN.EPOCHS):\n",
    "    print(\"Epochs:\", epoch)    \n",
    "    for image_data, target in trainset:\n",
    "        train_step(image_data, target)\n",
    "    model.save_weights(logdir + \"/yolov3\")\n"
   ]
  },
  {
   "cell_type": "markdown",
   "metadata": {
    "id": "lpuOckzH1oLv"
   },
   "source": [
    "## 重新建立模型並讀取參數，進行 inference"
   ]
  },
  {
   "cell_type": "code",
   "execution_count": 7,
   "metadata": {
    "id": "UWDCxJZ1fdsw"
   },
   "outputs": [],
   "source": [
    "import cv2\n",
    "import matplotlib.pyplot as plt\n",
    "import core.utils as utils\n",
    "from PIL import Image\n",
    "\n",
    "input_size = 416\n",
    "image_path = './data/dataset/test/000001.jpg'\n",
    "original_image = cv2.imread(image_path)\n",
    "original_image = cv2.cvtColor(original_image, cv2.COLOR_BGR2RGB)\n",
    "original_image_size = original_image.shape[:2]\n",
    "\n",
    "image_data = utils.image_preporcess(np.copy(original_image), [input_size, input_size])\n",
    "image_data = image_data[np.newaxis, ...].astype(np.float32)"
   ]
  },
  {
   "cell_type": "code",
   "execution_count": 8,
   "metadata": {
    "id": "WrZ7_Hk2vJJi"
   },
   "outputs": [
    {
     "data": {
      "text/plain": [
       "<matplotlib.image.AxesImage at 0x7facfc206710>"
      ]
     },
     "execution_count": 8,
     "metadata": {},
     "output_type": "execute_result"
    },
    {
     "data": {
      "image/png": "[encoded data removed]",
      "text/plain": [
       "<Figure size 432x288 with 1 Axes>"
      ]
     },
     "metadata": {
      "needs_background": "light"
     },
     "output_type": "display_data"
    }
   ],
   "source": [
    "plt.imshow(image_data[0])"
   ]
  },
  {
   "cell_type": "code",
   "execution_count": 9,
   "metadata": {
    "id": "dzRQ79E6xoVb"
   },
   "outputs": [
    {
     "data": {
      "text/plain": [
       "<tensorflow.python.training.tracking.util.CheckpointLoadStatus at 0x7fac34088ba8>"
      ]
     },
     "execution_count": 9,
     "metadata": {},
     "output_type": "execute_result"
    }
   ],
   "source": [
    "# Build Model\n",
    "input_layer  = tf.keras.layers.Input([input_size, input_size, 3])\n",
    "feature_maps = YOLOv3(input_layer)\n",
    "\n",
    "bbox_tensors = []\n",
    "for i, fm in enumerate(feature_maps):\n",
    "    bbox_tensor = decode(fm, i)\n",
    "    bbox_tensors.append(bbox_tensor)\n",
    "\n",
    "model = tf.keras.Model(input_layer, bbox_tensors)\n",
    "model.load_weights(\"./data/log/yolov3\")"
   ]
  },
  {
   "cell_type": "code",
   "execution_count": 12,
   "metadata": {
    "id": "qx7ehqvYt7-R"
   },
   "outputs": [],
   "source": [
    "pred_bbox = model.predict(image_data)\n",
    "pred_bbox = [tf.reshape(x, (-1, tf.shape(x)[-1])) for x in pred_bbox]\n",
    "pred_bbox = tf.concat(pred_bbox, axis=0)\n",
    "bboxes = utils.postprocess_boxes(pred_bbox, original_image_size, input_size, 0.3)\n",
    "bboxes = utils.nms(bboxes, 0.45, method='nms')\n",
    "\n",
    "original_image = cv2.imread(image_path)\n",
    "original_image = cv2.cvtColor(original_image, cv2.COLOR_BGR2RGB)\n",
    "image = utils.draw_bbox(original_image, bboxes, classes=utils.read_class_names(\"./data/classes/yymnist.names\"))\n",
    "image = Image.fromarray(image)"
   ]
  },
  {
   "cell_type": "code",
   "execution_count": 13,
   "metadata": {
    "id": "sKPzba1pxeQl"
   },
   "outputs": [
    {
     "data": {
      "image/png": "[encoded data removed]",
      "text/plain": [
       "<PIL.Image.Image image mode=RGB size=416x416 at 0x7FABDC6D3400>"
      ]
     },
     "execution_count": 13,
     "metadata": {},
     "output_type": "execute_result"
    }
   ],
   "source": [
    "image"
   ]
  },
  {
   "cell_type": "code",
   "execution_count": null,
   "metadata": {},
   "outputs": [],
   "source": []
  }
 ],
 "metadata": {
  "accelerator": "GPU",
  "colab": {
   "collapsed_sections": [],
   "name": "YOLO_V3_training.ipynb",
   "provenance": [],
   "toc_visible": true
  },
  "kernelspec": {
   "display_name": "Python 3",
   "language": "python",
   "name": "python3"
  },
  "language_info": {
   "codemirror_mode": {
    "name": "ipython",
    "version": 3
   },
   "file_extension": ".py",
   "mimetype": "text/x-python",
   "name": "python",
   "nbconvert_exporter": "python",
   "pygments_lexer": "ipython3",
   "version": "3.6.13"
  }
 },
 "nbformat": 4,
 "nbformat_minor": 4
}
